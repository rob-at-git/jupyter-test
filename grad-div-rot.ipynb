{
 "cells": [
  {
   "cell_type": "markdown",
   "id": "64dcc6d6",
   "metadata": {},
   "source": [
    "# Anleitung\n",
    "* Der Python-Code ist in Abschnitte (Zellen) aufgeteilt, die nacheinander ausgeführt werden sollen.\n",
    "* Drücken Sie ESC, dann können Sie auch mit den Pfeiltasten eine Zelle auswählen\n",
    "* Drücken Sie ENTER, um in den Edit-Modus einer Zelle zu gelangen\n",
    "* Zum Ausführen einer Zelle im Edit Modus drücken Sie die Tastenkombination SHIFT+ENTER. Dabei springen Sie automatisch zur nächsten Zelle\n",
    "* Um Eine Liste von Tastenkombinationen zu erhalten, drücken Sie im Edit-Modus einer Zelle ESC gefolgt von h"
   ]
  },
  {
   "cell_type": "markdown",
   "id": "8f0d903a",
   "metadata": {},
   "source": [
    "# Setup\n",
    "## Importieren benötigter Pythonbibliotheken\n",
    "    numpy: Mathebibliothek\n",
    "    matplotlib: Grafische 2D-Darstellungen\n",
    "    impl_toolkits.plot3d: 3D-Darstellungen\n",
    "    ipywidgets.interactive: Interaktives Grafiken\n",
    "## Plot-Settings\n",
    "    plt.rcParams: Anpassung der Figure Größen im Notebook"
   ]
  },
  {
   "cell_type": "code",
   "execution_count": 82,
   "id": "6a2c9ea7",
   "metadata": {},
   "outputs": [],
   "source": [
    "import numpy as np\n",
    "from numpy import pi\n",
    "import matplotlib.pyplot as plt\n",
    "from matplotlib import cm\n",
    "from mpl_toolkits.mplot3d import Axes3D\n",
    "from ipywidgets import interactive\n",
    "import matplotlib.image as mpimg\n",
    "plt.rcParams.update({'font.size': 22})"
   ]
  },
  {
   "cell_type": "markdown",
   "id": "2dd43666",
   "metadata": {},
   "source": [
    "# Python Einführung\n",
    "* Hier verwenden wir die wichtige Mathematik Bibliothek NumPy mit dem Kürzel np"
   ]
  },
  {
   "cell_type": "code",
   "execution_count": 3,
   "id": "ed8a9291",
   "metadata": {},
   "outputs": [
    {
     "name": "stdout",
     "output_type": "stream",
     "text": [
      "[-3.  -2.5 -2.  -1.5 -1.  -0.5  0.   0.5  1.   1.5  2.   2.5]\n"
     ]
    }
   ],
   "source": [
    "delta = 0.5\n",
    "x = np.arange(-3,3,delta)\n",
    "print(x)"
   ]
  },
  {
   "cell_type": "code",
   "execution_count": 4,
   "id": "8dfbcfa5",
   "metadata": {},
   "outputs": [
    {
     "name": "stdout",
     "output_type": "stream",
     "text": [
      "[-9.  -7.5 -6.  -4.5 -3.  -1.5  0.   1.5  3.   4.5  6.   7.5]\n"
     ]
    }
   ],
   "source": [
    "print(3*x)"
   ]
  },
  {
   "cell_type": "markdown",
   "id": "39e7cd17",
   "metadata": {},
   "source": [
    "# Festlegen der Koordinaten auf einem 2d-Raster"
   ]
  },
  {
   "cell_type": "code",
   "execution_count": 5,
   "id": "d174f594",
   "metadata": {},
   "outputs": [
    {
     "data": {
      "text/plain": [
       "<matplotlib.colorbar.Colorbar at 0x7efdcd120280>"
      ]
     },
     "execution_count": 5,
     "metadata": {},
     "output_type": "execute_result"
    },
    {
     "data": {
      "image/png": "[encoded data removed]",
      "text/plain": [
       "<Figure size 576x576 with 4 Axes>"
      ]
     },
     "metadata": {
      "needs_background": "light"
     },
     "output_type": "display_data"
    }
   ],
   "source": [
    "delta = 0.5\n",
    "x = np.arange(-3,3,delta)\n",
    "y = np.arange(-3,3,delta)\n",
    "X, Y = np.meshgrid(x,-y)\n",
    "\n",
    "plt.figure(figsize=(8,8))\n",
    "plt.subplot(1,2,1)\n",
    "plt.imshow(X,interpolation='none')\n",
    "plt.title('$X_{i,j}$')\n",
    "plt.ylabel('i')\n",
    "plt.xlabel('j')\n",
    "plt.colorbar()\n",
    "plt.subplot(1,2,2)\n",
    "plt.imshow(Y,interpolation='none')\n",
    "plt.title('$Y_{i,j}$')\n",
    "plt.ylabel('i')\n",
    "plt.xlabel('j')\n",
    "plt.colorbar()"
   ]
  },
  {
   "cell_type": "markdown",
   "id": "d615d386",
   "metadata": {},
   "source": [
    "# Kapitel Gradient"
   ]
  },
  {
   "cell_type": "markdown",
   "id": "5f15f054",
   "metadata": {},
   "source": [
    "## Beispiel 1"
   ]
  },
  {
   "cell_type": "markdown",
   "id": "9045b1ad",
   "metadata": {},
   "source": [
    "<h1> $f(x,y) = -(x^2+3y^2)$\n",
    "\n",
    "$\\partial_x f(x,y) = -2x$, $\\qquad\\partial_y f(x,y) = -6y$\n",
    "\n",
    "$\\vec{\\nabla}f = -\\left(\\begin{array}{c}2 x\\\\ 6 y \\end{array}\\right)$\n",
    "</h1>"
   ]
  },
  {
   "cell_type": "code",
   "execution_count": 8,
   "id": "cfe8d19a",
   "metadata": {},
   "outputs": [
    {
     "name": "stdout",
     "output_type": "stream",
     "text": [
      "[[-36.   -35.41 -34.84]\n",
      " [-34.23 -33.64 -33.07]\n",
      " [-32.52 -31.93 -31.36]]\n"
     ]
    }
   ],
   "source": [
    "delta = 0.1\n",
    "x = np.arange(-3,3,delta)\n",
    "y = np.arange(-3,3,delta)\n",
    "\"\"\"\n",
    "Zum Auswerten einer 2d-Funktion in einer Ebene benötigt man Koordinatenraster, welche\n",
    "die x und y Koordinaten an jedem Punkt der Ebene enthalten.\n",
    "\"\"\"\n",
    "X, Y = np.meshgrid(x,-y)\n",
    "\n",
    "f = -(X**2 + 3*Y**2) # Hier erstellen wir eine Matrix mit den Funktionswerten auf dem definierten X-Y-Raster\n",
    "print(f[0:3,0:3])"
   ]
  },
  {
   "cell_type": "markdown",
   "id": "29f41936",
   "metadata": {},
   "source": [
    "## Zeichnen der Graphen mit Matplotlib-Bibliothek"
   ]
  },
  {
   "cell_type": "code",
   "execution_count": 9,
   "id": "b95aed00",
   "metadata": {},
   "outputs": [
    {
     "data": {
      "application/vnd.jupyter.widget-view+json": {
       "model_id": "c530fcb9410e4542b2d297d728986eb4",
       "version_major": 2,
       "version_minor": 0
      },
      "text/plain": [
       "Canvas(toolbar=Toolbar(toolitems=[('Home', 'Reset original view', 'home', 'home'), ('Back', 'Back to previous …"
      ]
     },
     "metadata": {},
     "output_type": "display_data"
    }
   ],
   "source": [
    "%matplotlib widget\n",
    "fig = plt.figure(figsize=(8,4))\n",
    "plt.clf()\n",
    "\n",
    "\n",
    "ax1 = fig.add_subplot(1, 2, 1, projection='3d')\n",
    "ax1.plot_wireframe(X, Y, f, rstride=1, cstride=1) # Graph mit Höhenkoodierung des Funktionswertes\n",
    "plt.xlabel('x')\n",
    "plt.ylabel('y')\n",
    "ax1.view_init(30,120)\n",
    "\n",
    "ax2 = fig.add_subplot(1, 2, 2)\n",
    "h = ax2.imshow(f, extent=[x.min(), x.max(), y.min(), y.max()], cmap='jet') # Graph mit Farbkodierung des Funktionswertes\n",
    "plt.colorbar(h)\n",
    "plt.xlabel('x')\n",
    "plt.ylabel('y')\n",
    "plt.tight_layout()\n",
    "plt.show()"
   ]
  },
  {
   "cell_type": "markdown",
   "id": "affe6f98",
   "metadata": {},
   "source": [
    "## Zeichen eines Graphen mit Vektorfeld des Gradienten"
   ]
  },
  {
   "cell_type": "code",
   "execution_count": 11,
   "id": "213e1a71",
   "metadata": {},
   "outputs": [
    {
     "data": {
      "application/vnd.jupyter.widget-view+json": {
       "model_id": "1e5b5453b884402b86e18f32426ace51",
       "version_major": 2,
       "version_minor": 0
      },
      "text/plain": [
       "Canvas(toolbar=Toolbar(toolitems=[('Home', 'Reset original view', 'home', 'home'), ('Back', 'Back to previous …"
      ]
     },
     "metadata": {},
     "output_type": "display_data"
    }
   ],
   "source": [
    "delta = 0.1\n",
    "x = np.arange(-3,3,delta)\n",
    "y = np.arange(-3,3,delta)\n",
    "X, Y = np.meshgrid(x,-y)\n",
    "f = -(X**2 + Y**2)\n",
    "\n",
    "\"\"\"\n",
    "Zeichnen der Funktion\n",
    "\"\"\"\n",
    "\n",
    "%matplotlib widget\n",
    "fig = plt.figure()\n",
    "plt.rcParams.update({'font.size': 22})\n",
    "n = 30\n",
    "plt.contourf(X, Y, f, n, cmap='jet' )\n",
    "plt.colorbar()\n",
    "plt.contour(X, Y, f, colors = 'k', linewidths = 1, linestyles = 'solid')\n",
    "\n",
    "\n",
    "\"\"\"\n",
    "Benutze gröberes Raster für den Gradienten zur besseren Darstellung\n",
    "\"\"\"\n",
    "\n",
    "Delta = 4*delta\n",
    "x = np.arange(-3,3,Delta)\n",
    "y = np.arange(-3,3,Delta)\n",
    "X, Y = np.meshgrid(x,-y)\n",
    "f = -(X**2 + Y**2)\n",
    "\"\"\"\n",
    "Berechnung des Gradienten mit Hilfe einer Funktion der Numpy-Bibliothek - np.gradient\n",
    "\"\"\"\n",
    "grady, gradx = np.gradient(f,-Delta, Delta)\n",
    "\n",
    "\n",
    "plt.quiver(X, Y, gradx , grady)\n",
    "plt.xlim((x.min(),x.max()))\n",
    "plt.ylim((y.min()+0.1,y.max()))\n",
    "plt.xlabel('x')\n",
    "plt.ylabel('y')\n",
    "plt.show()"
   ]
  },
  {
   "cell_type": "markdown",
   "id": "e20eb865",
   "metadata": {},
   "source": [
    "## Zeichnen des Vektorfeldes des Gradienten"
   ]
  },
  {
   "cell_type": "code",
   "execution_count": 12,
   "id": "d2927b09",
   "metadata": {},
   "outputs": [
    {
     "data": {
      "application/vnd.jupyter.widget-view+json": {
       "model_id": "01d4ad761d98492a81f40228d222569d",
       "version_major": 2,
       "version_minor": 0
      },
      "text/plain": [
       "Canvas(toolbar=Toolbar(toolitems=[('Home', 'Reset original view', 'home', 'home'), ('Back', 'Back to previous …"
      ]
     },
     "metadata": {},
     "output_type": "display_data"
    }
   ],
   "source": [
    "plt.figure(figsize=(8,8))\n",
    "plt.quiver(X, Y, gradx , grady)\n",
    "plt.xlim((x.min(),x.max()))\n",
    "plt.ylim((y.min()+0.1,y.max()))\n",
    "plt.xlabel('x')\n",
    "plt.ylabel('y')\n",
    "plt.tight_layout()\n",
    "plt.show()"
   ]
  },
  {
   "cell_type": "markdown",
   "id": "6599af49",
   "metadata": {},
   "source": [
    "## Beispiel\n",
    "<h1>\n",
    "$f(x,y) = (x-0.5)^2-y^2$\n",
    "</h1>"
   ]
  },
  {
   "cell_type": "code",
   "execution_count": 25,
   "id": "d74a51fe",
   "metadata": {},
   "outputs": [],
   "source": [
    "# Contour plot for regular grid\n",
    "%matplotlib widget\n",
    "delta = 0.5\n",
    "x = np.arange(-10, 10, delta)\n",
    "y = np.arange(-10, 10, delta)\n",
    "\n",
    "# Create grid corresponding to xr and yr arrays\n",
    "X, Y = np.meshgrid (x,-y)\n",
    "f = (X-0.5)**2 - Y**2"
   ]
  },
  {
   "cell_type": "markdown",
   "id": "7eea3499",
   "metadata": {},
   "source": [
    "## Zeichnen der Graphen"
   ]
  },
  {
   "cell_type": "code",
   "execution_count": 28,
   "id": "dbe1e0e7",
   "metadata": {},
   "outputs": [
    {
     "data": {
      "application/vnd.jupyter.widget-view+json": {
       "model_id": "d15f9dde7f8c4389aa9549f9a2dff0ec",
       "version_major": 2,
       "version_minor": 0
      },
      "text/plain": [
       "Canvas(toolbar=Toolbar(toolitems=[('Home', 'Reset original view', 'home', 'home'), ('Back', 'Back to previous …"
      ]
     },
     "metadata": {},
     "output_type": "display_data"
    },
    {
     "data": {
      "application/vnd.jupyter.widget-view+json": {
       "model_id": "71df66916c974a3c9e9be373c5503368",
       "version_major": 2,
       "version_minor": 0
      },
      "text/plain": [
       "Canvas(toolbar=Toolbar(toolitems=[('Home', 'Reset original view', 'home', 'home'), ('Back', 'Back to previous …"
      ]
     },
     "metadata": {},
     "output_type": "display_data"
    }
   ],
   "source": [
    "fig = plt.figure(figsize=(8,8))\n",
    "ax = Axes3D(fig, auto_add_to_figure=False)\n",
    "fig.add_axes(ax)\n",
    "ax.plot_surface(X, Y, f, rstride=1, cstride=1, cmap=cm.jet)\n",
    "ax.view_init(30, 120)\n",
    "\n",
    "dx = delta*10\n",
    "dy = dx\n",
    "grady, gradx = np.gradient (f, -dy, dx)\n",
    "n = 20\n",
    "fig = plt.figure(figsize=(8,8))\n",
    "plt.clf()\n",
    "plt.contourf(X, Y, f, n, cmap='jet')\n",
    "plt.contour(X, Y, f, colors = 'k', linewidths = 1, linestyles = 'solid')\n",
    "plt.quiver(X, Y, gradx , grady, scale=70)\n",
    "plt.xlabel('x')\n",
    "plt.ylabel('y')\n",
    "plt.show()"
   ]
  },
  {
   "cell_type": "markdown",
   "id": "dd0bdca7",
   "metadata": {},
   "source": [
    "## Beispiel\n",
    "<h1> $f(x,y) = \\frac{\\sin(x^2+y^2)}{x^2+y^2} \\cdot |x|$ </h1>"
   ]
  },
  {
   "cell_type": "code",
   "execution_count": 40,
   "id": "571a0f6f",
   "metadata": {},
   "outputs": [],
   "source": [
    "\"\"\"\n",
    "Funktion als Methode definieren. Man beachte, dass Zeilen nach dem \":\"\n",
    "mit einer \"Tabulator-Weite\" eingerückt werden müssen. Ansonsten kann die \n",
    "Funktionsdefinition nicht verstanden werden.\n",
    "\"\"\"\n",
    "\n",
    "def F(x,y):\n",
    "    return np.sin(x**2 + y**2) / (x**2 + y**2 + 1e-4) * abs(x) # Regularisierung an Null durch Addition 1e-4"
   ]
  },
  {
   "cell_type": "markdown",
   "id": "39cd601e",
   "metadata": {},
   "source": [
    "## Zeichnen der Graphen"
   ]
  },
  {
   "cell_type": "code",
   "execution_count": 30,
   "id": "bf60021c",
   "metadata": {
    "scrolled": false
   },
   "outputs": [
    {
     "data": {
      "application/vnd.jupyter.widget-view+json": {
       "model_id": "b6ad89442bf648099e154d797206e938",
       "version_major": 2,
       "version_minor": 0
      },
      "text/plain": [
       "Canvas(toolbar=Toolbar(toolitems=[('Home', 'Reset original view', 'home', 'home'), ('Back', 'Back to previous …"
      ]
     },
     "metadata": {},
     "output_type": "display_data"
    }
   ],
   "source": [
    "delta = 0.1\n",
    "x = np.arange(-3,3,delta)\n",
    "y = np.arange(-3,3,delta)\n",
    "X, Y = np.meshgrid(x,y)\n",
    "fig = plt.figure()\n",
    "plt.contourf(x,y,F(X,Y))\n",
    "plt.colorbar()\n",
    "plt.show()"
   ]
  },
  {
   "cell_type": "code",
   "execution_count": 31,
   "id": "aadb96d7",
   "metadata": {},
   "outputs": [
    {
     "data": {
      "application/vnd.jupyter.widget-view+json": {
       "model_id": "187f701108c04bf7ab9d9fc84b9bb281",
       "version_major": 2,
       "version_minor": 0
      },
      "text/plain": [
       "Canvas(toolbar=Toolbar(toolitems=[('Home', 'Reset original view', 'home', 'home'), ('Back', 'Back to previous …"
      ]
     },
     "metadata": {},
     "output_type": "display_data"
    }
   ],
   "source": [
    "%matplotlib widget\n",
    "fig = plt.figure()\n",
    "ax = Axes3D(fig, auto_add_to_figure=False)\n",
    "fig.add_axes(ax)\n",
    "ax.plot_surface(X, Y, F(X,Y), rstride=1, cstride=1, cmap=cm.viridis)\n",
    "ax.view_init(30,120)\n",
    "plt.show()"
   ]
  },
  {
   "cell_type": "markdown",
   "id": "1b172edc",
   "metadata": {},
   "source": [
    "## Gradientenberechnung"
   ]
  },
  {
   "cell_type": "code",
   "execution_count": 60,
   "id": "209af0f8",
   "metadata": {},
   "outputs": [],
   "source": [
    "Delta = 0.35 # Zur beseren Darstellung ein gröberes Raster\n",
    "x = np.arange(-3,3,Delta)\n",
    "y = np.arange(-3,3,Delta)\n",
    "xx, yy = np.meshgrid(x,-y)\n",
    "\n",
    "\n",
    "gy, gx = np.gradient(F(xx,yy))"
   ]
  },
  {
   "cell_type": "markdown",
   "id": "7f964655",
   "metadata": {},
   "source": [
    "## 3D-Graph mit Vektoren"
   ]
  },
  {
   "cell_type": "code",
   "execution_count": 61,
   "id": "0a2aa75d",
   "metadata": {},
   "outputs": [
    {
     "data": {
      "application/vnd.jupyter.widget-view+json": {
       "model_id": "acca1dbb013044cfae477b66b964d7ea",
       "version_major": 2,
       "version_minor": 0
      },
      "text/plain": [
       "Canvas(toolbar=Toolbar(toolitems=[('Home', 'Reset original view', 'home', 'home'), ('Back', 'Back to previous …"
      ]
     },
     "metadata": {},
     "output_type": "display_data"
    }
   ],
   "source": [
    "%matplotlib widget\n",
    "fig = plt.figure()\n",
    "ax = Axes3D(fig, auto_add_to_figure=False)\n",
    "fig.add_axes(ax)\n",
    "\n",
    "\"\"\"\n",
    "Einzeichnen der Vektorpfeile in einen 3D-Plot scheinbar nur punktweise möglich :-(\n",
    "\"\"\"\n",
    "for ix in range(0, len(x)):\n",
    "    for iy in range(0, len(y)):\n",
    "        ax.quiver(x[ix],y[iy],1,gx[iy,ix],gy[iy,ix],0, color='k') # Zeichnet einen Pfeil\n",
    "\n",
    "\n",
    "ax.plot_surface(X, Y, F(X,Y), rstride=1, cstride=1, cmap=cm.viridis)\n",
    "plt.show()"
   ]
  },
  {
   "cell_type": "markdown",
   "id": "1872d724",
   "metadata": {},
   "source": [
    "## Beispiel Interaktion"
   ]
  },
  {
   "cell_type": "code",
   "execution_count": 62,
   "id": "d1fb9781",
   "metadata": {},
   "outputs": [
    {
     "data": {
      "application/vnd.jupyter.widget-view+json": {
       "model_id": "7169f0d8d9294c669e7420afbbaec558",
       "version_major": 2,
       "version_minor": 0
      },
      "text/plain": [
       "interactive(children=(IntSlider(value=180, description='angle', max=360, step=10), Output()), _dom_classes=('w…"
      ]
     },
     "metadata": {},
     "output_type": "display_data"
    }
   ],
   "source": [
    "def f(angle):    \n",
    "    ax.view_init(20, angle)\n",
    "    plt.show()\n",
    "interactive_plot = interactive(f, angle=(0, 360,10))\n",
    "output = interactive_plot.children[-1]\n",
    "interactive_plot"
   ]
  },
  {
   "cell_type": "markdown",
   "id": "d2f576a7",
   "metadata": {},
   "source": [
    "## Beispiel 3D-Graph mit eingezeichneten Kurven"
   ]
  },
  {
   "cell_type": "code",
   "execution_count": 63,
   "id": "7515a9b7",
   "metadata": {},
   "outputs": [
    {
     "data": {
      "application/vnd.jupyter.widget-view+json": {
       "model_id": "94d08713fcd14a349c9fc9edc1db679c",
       "version_major": 2,
       "version_minor": 0
      },
      "text/plain": [
       "Canvas(toolbar=Toolbar(toolitems=[('Home', 'Reset original view', 'home', 'home'), ('Back', 'Back to previous …"
      ]
     },
     "metadata": {},
     "output_type": "display_data"
    }
   ],
   "source": [
    "# Contour plot for regular grid\n",
    "%matplotlib widget\n",
    "delta = 0.5\n",
    "x = np.arange(-10, 10, delta)\n",
    "y = np.arange(-10, 10, delta)\n",
    "\n",
    "# Create grid corresponding to xr and yr arrays\n",
    "X, Y = np.meshgrid (x,-y)\n",
    "f = (X-0.5)**2 - Y**2\n",
    "\n",
    "\n",
    "fig = plt.figure(figsize=(8,8))\n",
    "ax = Axes3D(fig, auto_add_to_figure=False)\n",
    "fig.add_axes(ax)\n",
    "ax.plot_surface(X, Y, f, rstride=1, cstride=1, cmap=cm.jet, alpha=0.9,zorder=1)\n",
    "ax.plot(x,np.zeros_like(y), f[np.where(Y==0)],'-k', alpha=1,linewidth=8,zorder=10)\n",
    "ax.plot(np.zeros_like(x),y, f[np.where(X==0)],'-w', alpha=1,linewidth=8,zorder=10)\n",
    "ax.plot(0,0, 0.5**2,'-ob', alpha=1,linewidth=8,zorder=10,markersize=14)\n",
    "ax.view_init(30, 120)\n",
    "plt.show()\n"
   ]
  },
  {
   "cell_type": "markdown",
   "id": "051c0df0",
   "metadata": {},
   "source": [
    "# Kapitel Divergenz"
   ]
  },
  {
   "cell_type": "markdown",
   "id": "54c96301",
   "metadata": {},
   "source": [
    "## Hilfsfunktionen"
   ]
  },
  {
   "cell_type": "code",
   "execution_count": 64,
   "id": "8d31e40d",
   "metadata": {},
   "outputs": [],
   "source": [
    "\"\"\"\n",
    "Die Funktion berechnet einen Punkt x0,y0 aus zwei linearen Arrays über die Angabe eines Indexes.\n",
    "index kann dabei die Werte 0,1, ... Länge(x)*Länge(y) annehmen\n",
    "\"\"\"\n",
    "\n",
    "def berechneKoordinatenAusIndex(index,x,y):\n",
    "    ind = 0\n",
    "    for i in range(0,len(y)):\n",
    "        for j in range(0,len(x)):\n",
    "            if ind == index:\n",
    "                y0 = y[i]\n",
    "                x0 = x[j]\n",
    "                return x0,y0\n",
    "            ind+=1\n",
    "    return x0,y0\n",
    "\n",
    "\"\"\"\n",
    "Die Funktion format_coord ermöglicht die Ausgabe der Divergenz unterhalb der Graphen,\n",
    "wenn man den Mauszeiger über den Graphen bewegt. Relevant ist die Zeile:\n",
    "\n",
    "div = gx(x,y)+ gy(x,y)\n",
    "\n",
    "Die Funktionen gx, gy müssen vorher definiert sein.\n",
    "\"\"\"\n",
    "def format_coord(x, y):\n",
    "    xarr = np.squeeze(X[0,:])\n",
    "    yarr = np.squeeze(Y[:,0])\n",
    "    if ((x > xarr.min()) & (x <= xarr.max()) & \n",
    "        (y > yarr.min()) & (y <= yarr.max())):\n",
    "        col = np.searchsorted(xarr, x)\n",
    "        row = np.searchsorted(np.flipud(yarr), y)\n",
    "        div = gx(x,y)+ gy(x,y)\n",
    "\n",
    "        return f'x={x:1.4f}, y={y:1.4f}, div(x,y)={div:1.4f} '\n",
    "    else:\n",
    "        return f'x={x:1.4f}, y={y:1.4f}'\n",
    "\n",
    "\n",
    "\"\"\"\n",
    "Diese Funktion ermöglicht interaktives updaten eines Graphen\n",
    "\"\"\"\n",
    "    \n",
    "def updatePlot(k):\n",
    "    \n",
    "    global p1, h\n",
    "    if (p1):\n",
    "        p1.remove()\n",
    "    if (h):\n",
    "        h.remove()\n",
    "    x0,y0 = berechneKoordinatenAusIndex(k,points_x,points_y)\n",
    "    \n",
    "    plt.quiver(X, Y, Vx(X,Y) , Vy(X,Y))\n",
    "    plt.xlim((x.min(),x.max()))\n",
    "    plt.ylim((y.min()+0.1,y.max()))\n",
    "    p1, = plt.plot(x0,y0,'-ob',markersize=12,label=\"Punkt (x,y) = ({},{})\".format(x0,y0))\n",
    "    h = plt.legend(handles=[p1], title='Wie groß ist die Divergenz hier?', loc='best', framealpha=0.9)\n",
    "    plt.rcParams.update({'font.size': 22})\n",
    "    plt.tight_layout()\n",
    "    plt.show()"
   ]
  },
  {
   "cell_type": "markdown",
   "id": "e4211c68",
   "metadata": {},
   "source": [
    "## Beispiel: konstantes, ebenes Vektorfeld\n",
    "<h1>\n",
    "$\\vec{V}(x,y)=\n",
    "\\left(\\begin{array}{c}\n",
    "c\\\\\n",
    "c\n",
    "\\end{array}\\right)\n",
    "$\n",
    "    \n",
    "$c= const.$\n",
    "\n",
    "</h1>"
   ]
  },
  {
   "cell_type": "code",
   "execution_count": 65,
   "id": "15520094",
   "metadata": {},
   "outputs": [
    {
     "data": {
      "application/vnd.jupyter.widget-view+json": {
       "model_id": "20b05752a68840f69cac30882307289f",
       "version_major": 2,
       "version_minor": 0
      },
      "text/plain": [
       "Canvas(toolbar=Toolbar(toolitems=[('Home', 'Reset original view', 'home', 'home'), ('Back', 'Back to previous …"
      ]
     },
     "metadata": {},
     "output_type": "display_data"
    },
    {
     "data": {
      "application/vnd.jupyter.widget-view+json": {
       "model_id": "2c146b06c08743da892d03cb02f50cb7",
       "version_major": 2,
       "version_minor": 0
      },
      "text/plain": [
       "interactive(children=(IntSlider(value=4, description='k', max=8), Output()), _dom_classes=('widget-interact',)…"
      ]
     },
     "metadata": {},
     "output_type": "display_data"
    }
   ],
   "source": [
    "c = 1\n",
    "delta = 0.5\n",
    "x = np.arange(-3,3,delta)\n",
    "y = np.arange(-3,3,delta)\n",
    "X, Y = np.meshgrid(x,-y)\n",
    "\n",
    "\n",
    "def Vx(x,y): # Definition einer Funktion zur Ausgabe der X-Komponente des Vektorfeldes\n",
    "    return c\n",
    "\n",
    "def Vy(x,y): # Definition einer Funktion zur Ausgabe der Y-Komponente des Vektorfeldes\n",
    "    return c\n",
    "\n",
    "def gx(x,y): # Definition einer Funktion zur Ausgabe der X-Komponente des Gradienten\n",
    "    return 0\n",
    "\n",
    "def gy(x,y): # Definition einer Funktion zur Ausgabe der Y-Komponente des Gradienten\n",
    "    return 0\n",
    "\n",
    "points_x = [-1,0,1]\n",
    "points_y = [-1,0,1]\n",
    "\n",
    "y0 = points_y[0]\n",
    "x0 = points_x[0]\n",
    "\n",
    "%matplotlib widget\n",
    "fig = plt.figure(figsize=(8,8))\n",
    "plt.clf()\n",
    "plt.rcParams.update({'font.size': 22})\n",
    "\n",
    "\n",
    "plt.quiver(X, Y, Vx(X,Y) , Vy(X,Y)) # Vektor-Graph\n",
    "plt.xlim((x.min(),x.max()))\n",
    "plt.ylim((y.min()+0.1,y.max()))\n",
    "plt.xlabel('x')\n",
    "plt.ylabel('y')\n",
    "\n",
    "plt.title('Konstantes Vektorfeld');\n",
    "p1, = plt.plot(x0,y0,'-ob',markersize=12,label=\"Punkt (x,y) = ({},{})\".format(x0,y0)) # Graph eines Punktes\n",
    "h = plt.legend(handles=[p1], title='Wie groß ist die Divergenz hier?', loc='best', framealpha=0.9)\n",
    "ax = plt.gca()\n",
    "ax.format_coord = format_coord # ermögliche interaktive Ausgabe der Divergenz\n",
    "plt.tight_layout()\n",
    "plt.show()\n",
    "\n",
    "\n",
    "NP = len(points_x)*len(points_y)\n",
    "interactive_plot = interactive(updatePlot, k=(0,NP-1))\n",
    "output = interactive_plot.children[-1]\n",
    "interactive_plot"
   ]
  },
  {
   "cell_type": "markdown",
   "id": "d11c2558",
   "metadata": {},
   "source": [
    "## Beispiel: radiales, ebenes Vektorfeld\n",
    "<h1>\n",
    "$\\vec{V}(x,y)= \\frac{1}{\\sqrt{x^2+y^2+c}}\n",
    "\\left(\\begin{array}{c}\n",
    "x\\\\\n",
    "y\n",
    "\\end{array}\\right)\n",
    "$\n",
    "\n",
    "$c= const.$\n",
    "</h1>"
   ]
  },
  {
   "cell_type": "code",
   "execution_count": 66,
   "id": "480844f5",
   "metadata": {},
   "outputs": [
    {
     "data": {
      "application/vnd.jupyter.widget-view+json": {
       "model_id": "bd9db10c6361495da104b4bf72d9fed3",
       "version_major": 2,
       "version_minor": 0
      },
      "text/plain": [
       "Canvas(toolbar=Toolbar(toolitems=[('Home', 'Reset original view', 'home', 'home'), ('Back', 'Back to previous …"
      ]
     },
     "metadata": {},
     "output_type": "display_data"
    },
    {
     "data": {
      "application/vnd.jupyter.widget-view+json": {
       "model_id": "b2fa597aedba4f558382103afaa4b3b6",
       "version_major": 2,
       "version_minor": 0
      },
      "text/plain": [
       "interactive(children=(IntSlider(value=4, description='k', max=8), Output()), _dom_classes=('widget-interact',)…"
      ]
     },
     "metadata": {},
     "output_type": "display_data"
    }
   ],
   "source": [
    "c = 1e-3\n",
    "delta = 0.5\n",
    "d = 5\n",
    "x = np.arange(-d,d,delta)\n",
    "y = np.arange(-d,d,delta)\n",
    "X, Y = np.meshgrid(x,-y)\n",
    "\n",
    "\n",
    "def Vx(x,y): # Definition einer Funktion zur Ausgabe der X-Komponente des Vektorfeldes\n",
    "    return x/(x**2+y**2+c)**(1/2)\n",
    "\n",
    "def Vy(x,y): # Definition einer Funktion zur Ausgabe der Y-Komponente des Vektorfeldes\n",
    "    return y/(x**2+y**2+c)**(1/2)\n",
    "\n",
    "\n",
    "def gx(x,y): # Definition einer Funktion zur Ausgabe der X-Komponente des Gradienten\n",
    "    r = x**2+y**2+c\n",
    "    return -x**2/r**(3/2)+1/r**(1/2)\n",
    "\n",
    "def gy(x,y): # Definition einer Funktion zur Ausgabe der Y-Komponente des Gradienten\n",
    "    r = x**2+y**2+c\n",
    "    return -y**2/r**(3/2)+1/r**(1/2)\n",
    "\n",
    "\n",
    "points_x = [-2,0,2]\n",
    "points_y = [-2,0,2]\n",
    "\n",
    "y0 = points_y[0]\n",
    "x0 = points_x[0]\n",
    "\n",
    "%matplotlib widget\n",
    "fig = plt.figure(figsize=(8,8))\n",
    "plt.clf()\n",
    "\n",
    "plt.quiver(X, Y, Vx(X,Y) , Vy(X,Y)) # Vektor-Graph\n",
    "plt.xlim((x.min(),x.max()))\n",
    "plt.ylim((y.min()+0.1,y.max()))\n",
    "plt.xlabel('x')\n",
    "plt.ylabel('y')\n",
    "\n",
    "plt.title('Radiales Vektorfeld');\n",
    "p1, = plt.plot(x0,y0,'-ob',markersize=12,label=\"Punkt (x,y) = ({},{})\".format(x0,y0)) # Graph eines Punktes\n",
    "h = plt.legend(handles=[p1], title='Wie groß ist die Divergenz hier?', loc='best')\n",
    "ax = plt.gca()\n",
    "ax.format_coord = format_coord\n",
    "plt.show()\n",
    "plt.tight_layout()\n",
    "\n",
    "\n",
    "NP = len(points_x)*len(points_y)\n",
    "interactive_plot = interactive(updatePlot, k=(0,NP-1))\n",
    "output = interactive_plot.children[-1]\n",
    "interactive_plot"
   ]
  },
  {
   "cell_type": "markdown",
   "id": "c9b140e3",
   "metadata": {},
   "source": [
    "## Beispiel: ebenes Vektorfeld\n",
    "<h1>\n",
    "$\\vec{V}(x,y)= c\n",
    "\\left(\\begin{array}{c}\n",
    "|y|\\\\\n",
    "0\n",
    "\\end{array}\\right)\n",
    "$\n",
    "\n",
    "$c= const.$\n",
    "</h1>"
   ]
  },
  {
   "cell_type": "code",
   "execution_count": 68,
   "id": "57f80c33",
   "metadata": {},
   "outputs": [
    {
     "data": {
      "application/vnd.jupyter.widget-view+json": {
       "model_id": "74be084725d949679a47f958623d4034",
       "version_major": 2,
       "version_minor": 0
      },
      "text/plain": [
       "Canvas(toolbar=Toolbar(toolitems=[('Home', 'Reset original view', 'home', 'home'), ('Back', 'Back to previous …"
      ]
     },
     "metadata": {},
     "output_type": "display_data"
    },
    {
     "data": {
      "application/vnd.jupyter.widget-view+json": {
       "model_id": "d8d780638aae4201ab94e076b4791349",
       "version_major": 2,
       "version_minor": 0
      },
      "text/plain": [
       "interactive(children=(IntSlider(value=4, description='k', max=8), Output()), _dom_classes=('widget-interact',)…"
      ]
     },
     "metadata": {},
     "output_type": "display_data"
    }
   ],
   "source": [
    "delta = 0.5\n",
    "d = 3\n",
    "x = np.arange(-d,d,delta)\n",
    "y = np.arange(-d,d,delta)\n",
    "X, Y = np.meshgrid(x,-y)\n",
    "\n",
    "\n",
    "c = 2\n",
    "def Vx(x,y): # Definition einer Funktion zur Ausgabe der X-Komponente des Vektorfeldes\n",
    "    return c*abs(y)\n",
    "\n",
    "def Vy(x,y): # Definition einer Funktion zur Ausgabe der Y-Komponente des Vektorfeldes\n",
    "    return 0\n",
    "\n",
    "\n",
    "def gx(x,y): # Definition einer Funktion zur Ausgabe der X-Komponente des Gradienten\n",
    "    return 0\n",
    "\n",
    "def gy(x,y): # Definition einer Funktion zur Ausgabe der Y-Komponente des Gradienten\n",
    "    return 0\n",
    "\n",
    "\n",
    "points_x = [-2,0,2]\n",
    "points_y = [-2,0,2]\n",
    "\n",
    "y0 = points_y[0]\n",
    "x0 = points_x[0]\n",
    "\n",
    "%matplotlib widget\n",
    "fig = plt.figure(figsize=(8,8))\n",
    "plt.clf()\n",
    "\n",
    "\n",
    "plt.quiver(X, Y, Vx(X,Y) , Vy(X,Y)) # Vektor-Graph\n",
    "plt.xlim((x.min(),x.max()))\n",
    "plt.ylim((y.min()+0.1,y.max()))\n",
    "plt.xlabel('x')\n",
    "plt.ylabel('y')\n",
    "\n",
    "plt.title('Beispiel Vektorfeld');\n",
    "p1, = plt.plot(x0,y0,'-ob',markersize=12,label=\"Punkt (x,y) = ({},{})\".format(x0,y0))\n",
    "#h = plt.legend(handles=[p1], title='Wie groß ist die Divergenz hier?', bbox_to_anchor=(1.05, 1), loc='upper left')\n",
    "h = plt.legend(handles=[p1], title='Wie groß ist die Divergenz hier?', loc='best')\n",
    "ax = plt.gca()\n",
    "ax.format_coord = format_coord\n",
    "plt.tight_layout()\n",
    "plt.show()\n",
    "\n",
    "\n",
    "NP = len(points_x)*len(points_y)\n",
    "interactive_plot = interactive(updatePlot, k=(0,NP-1))\n",
    "output = interactive_plot.children[-1]\n",
    "interactive_plot"
   ]
  },
  {
   "cell_type": "markdown",
   "id": "e3ad0116",
   "metadata": {},
   "source": [
    "## Beispiel: ebenes Vektorfeld\n",
    "<h1>\n",
    "$\\vec{V}(x,y)= -c\n",
    "\\left(\\begin{array}{c}\n",
    "0\\\\\n",
    "y\n",
    "\\end{array}\\right)\n",
    "$\n",
    "\n",
    "$c= const.$\n",
    "</h1>"
   ]
  },
  {
   "cell_type": "code",
   "execution_count": 69,
   "id": "2beab096",
   "metadata": {},
   "outputs": [
    {
     "data": {
      "application/vnd.jupyter.widget-view+json": {
       "model_id": "cc16d76935394f86bbb060f80052e309",
       "version_major": 2,
       "version_minor": 0
      },
      "text/plain": [
       "Canvas(toolbar=Toolbar(toolitems=[('Home', 'Reset original view', 'home', 'home'), ('Back', 'Back to previous …"
      ]
     },
     "metadata": {},
     "output_type": "display_data"
    },
    {
     "data": {
      "application/vnd.jupyter.widget-view+json": {
       "model_id": "3952d0a2b79048fea36380bd7b47f5fa",
       "version_major": 2,
       "version_minor": 0
      },
      "text/plain": [
       "interactive(children=(IntSlider(value=4, description='k', max=8), Output()), _dom_classes=('widget-interact',)…"
      ]
     },
     "metadata": {},
     "output_type": "display_data"
    }
   ],
   "source": [
    "delta = 0.5\n",
    "d = 3\n",
    "x = np.arange(-d,d,delta)\n",
    "y = np.arange(-d,d,delta)\n",
    "X, Y = np.meshgrid(x,-y)\n",
    "\n",
    "\n",
    "c = 1\n",
    "def Vx(x,y): # Definition einer Funktion zur Ausgabe der X-Komponente des Vektorfeldes\n",
    "    return 0\n",
    "\n",
    "def Vy(x,y): # Definition einer Funktion zur Ausgabe der Y-Komponente des Vektorfeldes\n",
    "    return -c*y\n",
    "\n",
    "\n",
    "def gx(x,y): # Definition einer Funktion zur Ausgabe der Y-Komponente des Gradienten\n",
    "    return 0\n",
    "\n",
    "def gy(x,y): # Definition einer Funktion zur Ausgabe der Y-Komponente des Gradienten\n",
    "    return -c\n",
    "\n",
    "\n",
    "points_x = [-1,0,1]\n",
    "points_y = [-1,0,1]\n",
    "\n",
    "y0 = points_y[0]\n",
    "x0 = points_x[0]\n",
    "\n",
    "%matplotlib widget\n",
    "fig = plt.figure(figsize=(8,8))\n",
    "\n",
    "\n",
    "plt.quiver(X, Y, Vx(X,Y) , Vy(X,Y)) # Vektorfeld\n",
    "plt.xlim((x.min(),x.max()))\n",
    "plt.ylim((y.min()+0.1,y.max()))\n",
    "plt.xlabel('x')\n",
    "plt.ylabel('y')\n",
    "\n",
    "plt.title('Beispiel Vektorfeld');\n",
    "p1, = plt.plot(x0,y0,'-ob',markersize=12,label=\"Punkt (x,y) = ({},{})\".format(x0,y0)) # Graph eines Punktes\n",
    "h = plt.legend(handles=[p1], title='Wie groß ist die Divergenz hier?',loc='best')\n",
    "ax = plt.gca()\n",
    "ax.format_coord = format_coord\n",
    "plt.show()\n",
    "plt.tight_layout()\n",
    "\n",
    "\n",
    "NP = len(points_x)*len(points_y)\n",
    "interactive_plot = interactive(updatePlot, k=(0,NP-1))\n",
    "output = interactive_plot.children[-1]\n",
    "interactive_plot"
   ]
  },
  {
   "cell_type": "markdown",
   "id": "5c2f87ea",
   "metadata": {},
   "source": [
    "## Quiz Vektorfelder"
   ]
  },
  {
   "cell_type": "code",
   "execution_count": 70,
   "id": "1e4f332d",
   "metadata": {},
   "outputs": [
    {
     "data": {
      "application/vnd.jupyter.widget-view+json": {
       "model_id": "901d8fefd47a4923a35ad4279fa8a7e8",
       "version_major": 2,
       "version_minor": 0
      },
      "text/plain": [
       "Canvas(toolbar=Toolbar(toolitems=[('Home', 'Reset original view', 'home', 'home'), ('Back', 'Back to previous …"
      ]
     },
     "metadata": {},
     "output_type": "display_data"
    }
   ],
   "source": [
    "delta = 0.5\n",
    "x = np.arange(-0.5,3,delta)\n",
    "y = np.arange(-3,3,delta)\n",
    "X, Y = np.meshgrid(x,-y)\n",
    "\n",
    "\n",
    "def Vx(x,y): # Definition einer Funktion zur Ausgabe der X-Komponente des Vektorfeldes\n",
    "    return np.exp(x)\n",
    "\n",
    "def Vy(x,y): # Definition einer Funktion zur Ausgabe der Y-Komponente des Vektorfeldes\n",
    "    return 0\n",
    "\n",
    "def gx(x,y): # Definition einer Funktion zur Ausgabe der X-Komponente des Gradienten\n",
    "    return np.exp(x)\n",
    "\n",
    "def gy(x,y): # Definition einer Funktion zur Ausgabe der Y-Komponente des Gradienten\n",
    "    return 0\n",
    "\n",
    "points_x = [0,1,2]\n",
    "points_y = [0,1,2]\n",
    "\n",
    "y0 = points_y[0]\n",
    "x0 = points_x[1]\n",
    "\n",
    "%matplotlib widget\n",
    "fig = plt.figure(figsize=(8,8))\n",
    "plt.clf()\n",
    "plt.rcParams.update({'font.size': 22})\n",
    "\n",
    "\n",
    "plt.quiver(X, Y, Vx(X,Y) , Vy(X,Y)) # Vektor-Graph\n",
    "plt.plot([-0.75+1,0.75+1],[-0.75,-0.75],'-r')\n",
    "plt.plot([0.75+1,0.75+1],[-0.75,0.75],'-r')\n",
    "plt.plot([0.75+1,-0.75+1],[0.75,0.75],'-r')\n",
    "plt.plot([-0.75+1,-0.75+1],[0.75,-0.75],'-r')\n",
    "plt.xlim((x.min(),x.max()))\n",
    "plt.ylim((y.min()+0.1,y.max()))\n",
    "plt.xlabel('x')\n",
    "plt.ylabel('y')\n",
    "\n",
    "p1, = plt.plot(x0,y0,'-ob',markersize=12,label=\"Punkt (x,y) = ({},{})\".format(x0,y0)) # Graph eines Punktes\n",
    "h = plt.legend(handles=[p1], title='Wie groß ist die Divergenz hier?', loc='best', framealpha=0.9)\n",
    "ax = plt.gca()\n",
    "ax.format_coord = format_coord # ermögliche interaktive Ausgabe der Divergenz\n",
    "plt.tight_layout()\n",
    "plt.show()"
   ]
  },
  {
   "cell_type": "code",
   "execution_count": 71,
   "id": "bba7140c",
   "metadata": {},
   "outputs": [
    {
     "data": {
      "application/vnd.jupyter.widget-view+json": {
       "model_id": "692476ad142a42fabae78633d004812b",
       "version_major": 2,
       "version_minor": 0
      },
      "text/plain": [
       "Canvas(toolbar=Toolbar(toolitems=[('Home', 'Reset original view', 'home', 'home'), ('Back', 'Back to previous …"
      ]
     },
     "metadata": {},
     "output_type": "display_data"
    }
   ],
   "source": [
    "delta = 0.5\n",
    "x = np.arange(-0.5,3,delta)\n",
    "y = np.arange(-3,3,delta)\n",
    "X, Y = np.meshgrid(x,-y)\n",
    "\n",
    "\n",
    "def Vx(x,y): # Definition einer Funktion zur Ausgabe der X-Komponente des Vektorfeldes\n",
    "    return np.exp(-x)\n",
    "\n",
    "def Vy(x,y): # Definition einer Funktion zur Ausgabe der Y-Komponente des Vektorfeldes\n",
    "    return 0\n",
    "\n",
    "def gx(x,y): # Definition einer Funktion zur Ausgabe der X-Komponente des Gradienten\n",
    "    return -np.exp(-x)\n",
    "\n",
    "def gy(x,y): # Definition einer Funktion zur Ausgabe der Y-Komponente des Gradienten\n",
    "    return 0\n",
    "\n",
    "points_x = [0,1,2]\n",
    "points_y = [0,1,2]\n",
    "\n",
    "y0 = points_y[0]\n",
    "x0 = points_x[1]\n",
    "\n",
    "%matplotlib widget\n",
    "fig = plt.figure(figsize=(8,8))\n",
    "plt.clf()\n",
    "plt.rcParams.update({'font.size': 22})\n",
    "\n",
    "\n",
    "plt.quiver(X, Y, Vx(X,Y) , Vy(X,Y)) # Vektor-Graph\n",
    "plt.plot([-0.75+1,0.75+1],[-0.75,-0.75],'-r')\n",
    "plt.plot([0.75+1,0.75+1],[-0.75,0.75],'-r')\n",
    "plt.plot([0.75+1,-0.75+1],[0.75,0.75],'-r')\n",
    "plt.plot([-0.75+1,-0.75+1],[0.75,-0.75],'-r')\n",
    "plt.xlim((x.min(),x.max()))\n",
    "plt.ylim((y.min()+0.1,y.max()))\n",
    "plt.xlabel('x')\n",
    "plt.ylabel('y')\n",
    "\n",
    "p1, = plt.plot(x0,y0,'-ob',markersize=12,label=\"Punkt (x,y) = ({},{})\".format(x0,y0)) # Graph eines Punktes\n",
    "h = plt.legend(handles=[p1], title='Wie groß ist die Divergenz hier?', loc='best', framealpha=0.9)\n",
    "ax = plt.gca()\n",
    "ax.format_coord = format_coord # ermögliche interaktive Ausgabe der Divergenz\n",
    "plt.tight_layout()\n",
    "plt.show()"
   ]
  },
  {
   "cell_type": "markdown",
   "id": "83acf9db",
   "metadata": {},
   "source": [
    "# Kapitel Rotation"
   ]
  },
  {
   "cell_type": "markdown",
   "id": "bbce6f3b",
   "metadata": {},
   "source": [
    "## Hilfsfunktion zur Ausgabe des Rotationswertes unter dem Mauszeiger im Graphen"
   ]
  },
  {
   "cell_type": "code",
   "execution_count": 73,
   "id": "480d8c6d",
   "metadata": {},
   "outputs": [],
   "source": [
    "def format_coord(x, y):\n",
    "    xarr = np.squeeze(X[0,:])\n",
    "    yarr = np.squeeze(Y[:,0])\n",
    "    if ((x > xarr.min()) & (x <= xarr.max()) & \n",
    "        (y > yarr.min()) & (y <= yarr.max())):\n",
    "        col = np.searchsorted(xarr, x)\n",
    "        row = np.searchsorted(np.flipud(yarr), y)\n",
    "        rotz = rotVz(x,y) # benötigt die Definition der Methode \"rotVz(x,y)\"\n",
    "\n",
    "        return f'x={x:1.4f}, y={y:1.4f}, rot(x,y)={rotz:1.4f} '\n",
    "    else:\n",
    "        return f'x={x:1.4f}, y={y:1.4f}'"
   ]
  },
  {
   "cell_type": "markdown",
   "id": "d86677b6",
   "metadata": {},
   "source": [
    "## Beispiel Geschwindkeitsfeld einer rotierenden Scheibe\n",
    "<h1>\n",
    "$\\vec{v} = \\vec{\\omega}\\times\\vec{r} = \n",
    "    \\left(\\begin{array}{c}\n",
    "    0\\\\\n",
    "    0\\\\\n",
    "    \\omega_0\n",
    "    \\end{array}\\right)\\times\n",
    "    \\left(\\begin{array}{c}\n",
    "    x\\\\\n",
    "    y\\\\\n",
    "    0\n",
    "    \\end{array}\\right)\n",
    "    =\n",
    "    \\omega_0 \\left(\\begin{array}{c}\n",
    "    - y\\\\\n",
    "    x\\\\\n",
    "    0\n",
    "    \\end{array}\\right)\n",
    "$\n",
    "</h1>\n",
    "<h1>\n",
    "$\n",
    "\\vec{\\nabla}\\times \\vec{v} = \n",
    "\\left( \\begin{array}{c}\n",
    "\\frac{\\partial {v}_z}{\\partial y}- \\frac{\\partial {v}_y}{\\partial z}\\\\\n",
    "\\frac{\\partial {v}_x}{\\partial z}- \\frac{\\partial {v}_z}{\\partial x}\\\\\n",
    "\\frac{\\partial {v}_y}{\\partial x}- \\frac{\\partial {v}_x}{\\partial y}\n",
    "\\end{array} \\right)\n",
    "= \\omega_0\\left( \\begin{array}{c}\n",
    "\\frac{\\partial 0}{\\partial y}- \\frac{\\partial x}{\\partial z}\\\\\n",
    "\\frac{\\partial (-y)}{\\partial z}- \\frac{\\partial 0}{\\partial x}\\\\\n",
    "\\frac{\\partial x}{\\partial x}- \\frac{\\partial (-y)}{\\partial y}\n",
    "\\end{array} \\right)\n",
    "= 2 \\omega_0\\left( \\begin{array}{c}\n",
    "0\\\\\n",
    "0\\\\\n",
    "1\n",
    "\\end{array} \\right) = 2\\vec{\\omega}\n",
    "$\n",
    "    \n",
    "</h1>"
   ]
  },
  {
   "cell_type": "markdown",
   "id": "df5a4667",
   "metadata": {},
   "source": [
    "## Definition der Python Methoden"
   ]
  },
  {
   "cell_type": "code",
   "execution_count": 78,
   "id": "d9c7dee7",
   "metadata": {},
   "outputs": [],
   "source": [
    "delta = 0.1\n",
    "x = np.arange(-3,3,delta)\n",
    "y = np.arange(-3,3,delta)\n",
    "X, Y = np.meshgrid(x,-y)\n",
    "\n",
    "w0 = 1\n",
    "\n",
    "def Vx(x,y):\n",
    "    return -w0*y\n",
    "def Vy(x,y):\n",
    "    return w0*x\n",
    "\n",
    "def rotVz(x,y):\n",
    "    return 2*w0\n",
    "\n",
    "f =np.sqrt(Vx(X,Y)**2+Vy(X,Y)**2) # Betrag der Geschwindigkeit |v| in einer 2d-Matrix hinterlegt"
   ]
  },
  {
   "cell_type": "markdown",
   "id": "aa76d855",
   "metadata": {},
   "source": [
    "## Zeichnen des Graphen\n",
    "### Beobachten Sie die Werte unterhalb der x-Achse für rot(x,y)"
   ]
  },
  {
   "cell_type": "code",
   "execution_count": 79,
   "id": "6de7ee9a",
   "metadata": {},
   "outputs": [
    {
     "data": {
      "application/vnd.jupyter.widget-view+json": {
       "model_id": "daca18e905c2498488392bb356ec5ba5",
       "version_major": 2,
       "version_minor": 0
      },
      "text/plain": [
       "Canvas(toolbar=Toolbar(toolitems=[('Home', 'Reset original view', 'home', 'home'), ('Back', 'Back to previous …"
      ]
     },
     "metadata": {},
     "output_type": "display_data"
    }
   ],
   "source": [
    "%matplotlib widget\n",
    "fig = plt.figure()\n",
    "n = 30\n",
    "plt.contourf(X, Y, f, n, cmap='jet' )\n",
    "cb = plt.colorbar()\n",
    "cb.set_label('$\\sqrt{v^2_x+v^2_y}$')\n",
    "plt.contour(X, Y, f, colors = 'k', linewidths = 1, linestyles = 'solid')\n",
    "\n",
    "\n",
    "Delta = 2*delta\n",
    "x = np.arange(-3,3,Delta)\n",
    "y = np.arange(-3,3,Delta)\n",
    "X, Y = np.meshgrid(x,-y)\n",
    "\n",
    "\n",
    "\n",
    "plt.quiver(X, Y, -Y , X)\n",
    "plt.xlim((x.min(),x.max()))\n",
    "plt.ylim((y.min()+0.1,y.max()))\n",
    "plt.xlabel('x')\n",
    "plt.ylabel('y')\n",
    "plt.title('Geschwindigkeitsfeld')\n",
    "ax = plt.gca()\n",
    "ax.format_coord = format_coord\n",
    "plt.show()\n"
   ]
  },
  {
   "cell_type": "code",
   "execution_count": 80,
   "id": "3c17ea72",
   "metadata": {},
   "outputs": [
    {
     "data": {
      "application/vnd.jupyter.widget-view+json": {
       "model_id": "d60915c60ca74bb0845268a5cfa5b96e",
       "version_major": 2,
       "version_minor": 0
      },
      "text/plain": [
       "Canvas(toolbar=Toolbar(toolitems=[('Home', 'Reset original view', 'home', 'home'), ('Back', 'Back to previous …"
      ]
     },
     "metadata": {},
     "output_type": "display_data"
    }
   ],
   "source": [
    "# Nur Vektorfeld zeichnen\n",
    "plt.figure()\n",
    "plt.quiver(X, Y, -Y , X)\n",
    "plt.xlim((x.min(),x.max()))\n",
    "plt.ylim((y.min()+0.1,y.max()))\n",
    "plt.xlabel('x')\n",
    "plt.ylabel('y')\n",
    "plt.title('Geschwindigkeitsfeld')\n",
    "ax = plt.gca()\n",
    "ax.format_coord = format_coord\n",
    "plt.show()"
   ]
  },
  {
   "cell_type": "markdown",
   "id": "528ab1b5",
   "metadata": {},
   "source": [
    "## Strömende Flüssigkeit im Kanal"
   ]
  },
  {
   "cell_type": "code",
   "execution_count": 83,
   "id": "ffb718af",
   "metadata": {},
   "outputs": [
    {
     "data": {
      "application/vnd.jupyter.widget-view+json": {
       "model_id": "f3be1a2f21ee48e6b0e7f92d6385f771",
       "version_major": 2,
       "version_minor": 0
      },
      "text/plain": [
       "Canvas(toolbar=Toolbar(toolitems=[('Home', 'Reset original view', 'home', 'home'), ('Back', 'Back to previous …"
      ]
     },
     "metadata": {},
     "output_type": "display_data"
    },
    {
     "data": {
      "text/plain": [
       "Text(0, 0.5, 'y-Achse')"
      ]
     },
     "execution_count": 83,
     "metadata": {},
     "output_type": "execute_result"
    }
   ],
   "source": [
    "img=mpimg.imread('full0001-0240.jpg')\n",
    "plt.figure()\n",
    "plt.imshow(img)\n",
    "plt.xticks([])\n",
    "plt.yticks([])\n",
    "plt.xlabel('x-Achse')\n",
    "plt.ylabel('y-Achse')"
   ]
  },
  {
   "cell_type": "markdown",
   "id": "0546fceb",
   "metadata": {},
   "source": [
    "<h1>\n",
    "$\\vec{V}(x,y,z) = \\left(\n",
    "    \\begin{array}{c}\n",
    "    {v_{max}}-\\frac{1}{c} + \\frac{1}{y^2+c}\\\\\n",
    "    0\\\\\n",
    "    0\n",
    "\\end{array}\\right)$\n",
    "\n",
    "$\\vec{\\nabla}\\times\\vec{V} = -2\\left(\n",
    "    \\begin{array}{c}\n",
    "    0\\\\\n",
    "    0\\\\\n",
    "    \\frac{y}{y^2+c}\n",
    "\\end{array}\\right)$\n",
    "</h1>"
   ]
  },
  {
   "cell_type": "code",
   "execution_count": 84,
   "id": "5e8dd3b0",
   "metadata": {},
   "outputs": [
    {
     "data": {
      "application/vnd.jupyter.widget-view+json": {
       "model_id": "69c51abcf8a24d98bd99f4475cf5fa2d",
       "version_major": 2,
       "version_minor": 0
      },
      "text/plain": [
       "Canvas(toolbar=Toolbar(toolitems=[('Home', 'Reset original view', 'home', 'home'), ('Back', 'Back to previous …"
      ]
     },
     "metadata": {},
     "output_type": "display_data"
    },
    {
     "data": {
      "application/vnd.jupyter.widget-view+json": {
       "model_id": "8a322bfd0c9b4abcbf2308c4fb4a88c3",
       "version_major": 2,
       "version_minor": 0
      },
      "text/plain": [
       "Canvas(toolbar=Toolbar(toolitems=[('Home', 'Reset original view', 'home', 'home'), ('Back', 'Back to previous …"
      ]
     },
     "metadata": {},
     "output_type": "display_data"
    }
   ],
   "source": [
    "c = 1e-3\n",
    "vmax = 1+1/c\n",
    "def Vx(x,y):    \n",
    "    return 1 + 1/(y**2+c)\n",
    "def Vy(x,y):    \n",
    "    return 0\n",
    "\n",
    "def rotVz(x,y):\n",
    "    return -2*y/(y**2+c)\n",
    "\n",
    "N = 100\n",
    "lim = 0.1\n",
    "delta = lim/N\n",
    "x = np.arange(-lim,lim,delta)\n",
    "y = np.arange(-lim,lim,delta)\n",
    "X, Y = np.meshgrid(x,-y)\n",
    "f = Vx(X,Y)\n",
    "\n",
    "%matplotlib widget\n",
    "fig = plt.figure()\n",
    "n = 30\n",
    "plt.contourf(X, Y, f, n, cmap='jet' )\n",
    "h = plt.colorbar()\n",
    "h.ax.set_yticklabels([])\n",
    "h.ax.set_xticklabels([])\n",
    "\n",
    "Delta = 10*delta\n",
    "x = np.arange(-lim,lim,Delta)\n",
    "y = np.arange(-lim,lim,Delta)\n",
    "X, Y = np.meshgrid(x,-y)\n",
    "f = Vx(X,Y)\n",
    "\n",
    "\n",
    "plt.quiver(X, Y, f , 0*X)\n",
    "plt.xlim((x.min(),x.max()))\n",
    "plt.ylim((y.min(),y.max()))\n",
    "plt.xlabel('x')\n",
    "plt.ylabel('y')\n",
    "# plt.title('Geschwindigkeitsfeld')\n",
    "ax = plt.gca()\n",
    "ax.format_coord = format_coord\n",
    "plt.tight_layout()\n",
    "plt.show()\n",
    "\n",
    "fig = plt.figure()\n",
    "plt.plot(y,rotVz(x,y),'-x')\n",
    "plt.xlabel('y')\n",
    "plt.ylabel('(rot V)z')\n",
    "plt.grid()\n",
    "plt.tight_layout()\n",
    "plt.show()"
   ]
  },
  {
   "cell_type": "code",
   "execution_count": null,
   "id": "de7b6e1b",
   "metadata": {},
   "outputs": [],
   "source": []
  }
 ],
 "metadata": {
  "kernelspec": {
   "display_name": "Python 3",
   "language": "python",
   "name": "python3"
  },
  "language_info": {
   "codemirror_mode": {
    "name": "ipython",
    "version": 3
   },
   "file_extension": ".py",
   "mimetype": "text/x-python",
   "name": "python",
   "nbconvert_exporter": "python",
   "pygments_lexer": "ipython3",
   "version": "3.8.5"
  }
 },
 "nbformat": 4,
 "nbformat_minor": 5
}
